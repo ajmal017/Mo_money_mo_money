{
 "cells": [
  {
   "cell_type": "markdown",
   "metadata": {},
   "source": [
    "# Detecting fluctuating stock in 5 min data\n",
    "\n",
    "Use this for download\n",
    "https://stooq.com/db/h/"
   ]
  },
  {
   "cell_type": "code",
   "execution_count": 1,
   "metadata": {},
   "outputs": [],
   "source": [
    "import pandas as pd\n",
    "import numpy as np\n",
    "import matplotlib.pyplot as plt\n",
    "import urllib.request \n",
    "\n",
    "# work_dir = 'D:/5_us_txt_20200104/data/5 min/us/nasdaq stocks/1/'\n",
    "data_dir = '/home/minx/Documents/stock_data'"
   ]
  },
  {
   "cell_type": "code",
   "execution_count": 3,
   "metadata": {},
   "outputs": [
    {
     "data": {
      "text/plain": [
       "('/home/minx/Documents/stock_data/US_stock',\n",
       " <http.client.HTTPMessage at 0x7f152ee08550>)"
      ]
     },
     "execution_count": 3,
     "metadata": {},
     "output_type": "execute_result"
    }
   ],
   "source": [
    "## download data and save to data_dir\n",
    "import urllib.request\n",
    "\n",
    "url = 'https://static.stooq.com/db/h/5_us_txt.zip'\n",
    "urllib.request.urlretrieve(url, data_dir + '/US_stock.zip')"
   ]
  },
  {
   "cell_type": "code",
   "execution_count": null,
   "metadata": {},
   "outputs": [],
   "source": [
    "df = pd.read_csv(work_dir + 'mrtn.us.txt')"
   ]
  },
  {
   "cell_type": "code",
   "execution_count": null,
   "metadata": {},
   "outputs": [],
   "source": [
    "df.head()"
   ]
  }
 ],
 "metadata": {
  "kernelspec": {
   "display_name": "Python 3",
   "language": "python",
   "name": "python3"
  },
  "language_info": {
   "codemirror_mode": {
    "name": "ipython",
    "version": 3
   },
   "file_extension": ".py",
   "mimetype": "text/x-python",
   "name": "python",
   "nbconvert_exporter": "python",
   "pygments_lexer": "ipython3",
   "version": "3.8.5"
  }
 },
 "nbformat": 4,
 "nbformat_minor": 2
}
