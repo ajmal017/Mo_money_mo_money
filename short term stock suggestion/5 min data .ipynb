{
 "cells": [
  {
   "cell_type": "markdown",
   "metadata": {},
   "source": [
    "# Detecting fluctuating stock in 5 min data\n",
    "\n",
    "Use this for download\n",
    "https://stooq.com/db/h/"
   ]
  },
  {
   "cell_type": "code",
   "execution_count": 3,
   "metadata": {},
   "outputs": [],
   "source": [
    "import pandas as pd\n",
    "import numpy as np\n",
    "import matplotlib.pyplot as plt\n",
    "\n",
    "work_dir = 'D:/5_us_txt_20200104/data/5 min/us/nasdaq stocks/1/'"
   ]
  },
  {
   "cell_type": "code",
   "execution_count": 4,
   "metadata": {},
   "outputs": [],
   "source": [
    "df = pd.read_csv(work_dir + 'mrtn.us.txt')"
   ]
  },
  {
   "cell_type": "code",
   "execution_count": 8,
   "metadata": {},
   "outputs": [
    {
     "data": {
      "text/html": [
       "<div>\n",
       "<style scoped>\n",
       "    .dataframe tbody tr th:only-of-type {\n",
       "        vertical-align: middle;\n",
       "    }\n",
       "\n",
       "    .dataframe tbody tr th {\n",
       "        vertical-align: top;\n",
       "    }\n",
       "\n",
       "    .dataframe thead th {\n",
       "        text-align: right;\n",
       "    }\n",
       "</style>\n",
       "<table border=\"1\" class=\"dataframe\">\n",
       "  <thead>\n",
       "    <tr style=\"text-align: right;\">\n",
       "      <th></th>\n",
       "      <th>Date</th>\n",
       "      <th>Time</th>\n",
       "      <th>Open</th>\n",
       "      <th>High</th>\n",
       "      <th>Low</th>\n",
       "      <th>Close</th>\n",
       "      <th>Volume</th>\n",
       "      <th>OpenInt</th>\n",
       "    </tr>\n",
       "  </thead>\n",
       "  <tbody>\n",
       "    <tr>\n",
       "      <th>0</th>\n",
       "      <td>2019-11-15</td>\n",
       "      <td>15:30:00</td>\n",
       "      <td>22.209</td>\n",
       "      <td>22.209</td>\n",
       "      <td>22.209</td>\n",
       "      <td>22.209</td>\n",
       "      <td>8115</td>\n",
       "      <td>0</td>\n",
       "    </tr>\n",
       "    <tr>\n",
       "      <th>1</th>\n",
       "      <td>2019-11-15</td>\n",
       "      <td>15:45:00</td>\n",
       "      <td>22.079</td>\n",
       "      <td>22.079</td>\n",
       "      <td>22.019</td>\n",
       "      <td>22.019</td>\n",
       "      <td>350</td>\n",
       "      <td>0</td>\n",
       "    </tr>\n",
       "    <tr>\n",
       "      <th>2</th>\n",
       "      <td>2019-11-15</td>\n",
       "      <td>15:55:00</td>\n",
       "      <td>21.989</td>\n",
       "      <td>21.989</td>\n",
       "      <td>21.959</td>\n",
       "      <td>21.969</td>\n",
       "      <td>701</td>\n",
       "      <td>0</td>\n",
       "    </tr>\n",
       "    <tr>\n",
       "      <th>3</th>\n",
       "      <td>2019-11-15</td>\n",
       "      <td>16:15:00</td>\n",
       "      <td>21.899</td>\n",
       "      <td>21.899</td>\n",
       "      <td>21.839</td>\n",
       "      <td>21.839</td>\n",
       "      <td>200</td>\n",
       "      <td>0</td>\n",
       "    </tr>\n",
       "    <tr>\n",
       "      <th>4</th>\n",
       "      <td>2019-11-15</td>\n",
       "      <td>16:20:00</td>\n",
       "      <td>21.868</td>\n",
       "      <td>21.868</td>\n",
       "      <td>21.868</td>\n",
       "      <td>21.868</td>\n",
       "      <td>200</td>\n",
       "      <td>0</td>\n",
       "    </tr>\n",
       "  </tbody>\n",
       "</table>\n",
       "</div>"
      ],
      "text/plain": [
       "         Date      Time    Open    High     Low   Close  Volume  OpenInt\n",
       "0  2019-11-15  15:30:00  22.209  22.209  22.209  22.209    8115        0\n",
       "1  2019-11-15  15:45:00  22.079  22.079  22.019  22.019     350        0\n",
       "2  2019-11-15  15:55:00  21.989  21.989  21.959  21.969     701        0\n",
       "3  2019-11-15  16:15:00  21.899  21.899  21.839  21.839     200        0\n",
       "4  2019-11-15  16:20:00  21.868  21.868  21.868  21.868     200        0"
      ]
     },
     "execution_count": 8,
     "metadata": {},
     "output_type": "execute_result"
    }
   ],
   "source": [
    "df.head()"
   ]
  }
 ],
 "metadata": {
  "kernelspec": {
   "display_name": "Python 3",
   "language": "python",
   "name": "python3"
  },
  "language_info": {
   "codemirror_mode": {
    "name": "ipython",
    "version": 3
   },
   "file_extension": ".py",
   "mimetype": "text/x-python",
   "name": "python",
   "nbconvert_exporter": "python",
   "pygments_lexer": "ipython3",
   "version": "3.7.6"
  }
 },
 "nbformat": 4,
 "nbformat_minor": 2
}
