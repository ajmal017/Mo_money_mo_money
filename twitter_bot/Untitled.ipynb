{
 "cells": [
  {
   "cell_type": "code",
   "execution_count": null,
   "metadata": {},
   "outputs": [],
   "source": [
    "import numpy as np\n",
    "import pandas as pd\n",
    "import matplotlib.pyplot as plt\n",
    "\n",
    "import warnings\n",
    "from IPython.core.display import display, HTML\n",
    "warnings.filterwarnings(\"ignore\") # suppress warnings because theyre annoying and i like living on the edge\n",
    "pd.set_option('display.max_columns',100) # so i can see all columns\n",
    "np.set_printoptions(linewidth = 220) # increase numpy array print\n",
    "display(HTML(\"<style>.container { width:80% !important; }</style>\")) # widen jupyter notebook blocks"
   ]
  },
  {
   "cell_type": "code",
   "execution_count": null,
   "metadata": {},
   "outputs": [],
   "source": [
    "import requests\n",
    "import os\n",
    "import json\n",
    "\n",
    "# To set your enviornment variables in your terminal run the following line:\n",
    "# export 'BEARER_TOKEN'='<your_bearer_token>'\n",
    "\n",
    "\n",
    "def auth():\n",
    "    # bearer token received from curl via https://developer.twitter.com/en/docs/authentication/oauth-2-0/bearer-tokens\n",
    "    return \"\"\n",
    "#     return os.environ.get(\"BEARER_TOKEN\")\n",
    "\n",
    "\n",
    "def create_url(query = '', test = False):\n",
    "    if test:\n",
    "        query = \"from:twitterdev -is:retweet\"\n",
    "        # Tweet fields are adjustable.\n",
    "        # Options include:\n",
    "        # attachments, author_id, context_annotations,\n",
    "        # conversation_id, created_at, entities, geo, id,\n",
    "        # in_reply_to_user_id, lang, non_public_metrics, organic_metrics,\n",
    "        # possibly_sensitive, promoted_metrics, public_metrics, referenced_tweets,\n",
    "        # source, text, and withheld\n",
    "        tweet_fields = \"tweet.fields=author_id\"\n",
    "\n",
    "    url = \"https://api.twitter.com/2/tweets/search/recent?query={}&{}\".format(\n",
    "            query, tweet_fields\n",
    "          )\n",
    "    return url\n",
    "\n",
    "\n",
    "def create_headers(bearer_token):\n",
    "    headers = {\"Authorization\": \"Bearer {}\".format(bearer_token)}\n",
    "    return headers\n",
    "\n",
    "\n",
    "def connect_to_endpoint(url, headers):\n",
    "    response = requests.request(\"GET\", url, headers=headers)\n",
    "    print(response.status_code)\n",
    "    if response.status_code != 200:\n",
    "        raise Exception(response.status_code, response.text)\n",
    "    return response.json()\n",
    "\n",
    "\n",
    "def main():\n",
    "    bearer_token = auth()\n",
    "    url = create_url()\n",
    "    headers = create_headers(bearer_token)\n",
    "    json_response = connect_to_endpoint(url, headers)\n",
    "    print(json.dumps(json_response, indent=4, sort_keys=True))\n",
    "\n",
    "\n",
    "if __name__ == \"__main__\":\n",
    "    main()"
   ]
  }
 ],
 "metadata": {
  "kernelspec": {
   "display_name": "Python 3",
   "language": "python",
   "name": "python3"
  },
  "language_info": {
   "codemirror_mode": {
    "name": "ipython",
    "version": 3
   },
   "file_extension": ".py",
   "mimetype": "text/x-python",
   "name": "python",
   "nbconvert_exporter": "python",
   "pygments_lexer": "ipython3",
   "version": "3.7.6"
  }
 },
 "nbformat": 4,
 "nbformat_minor": 2
}
