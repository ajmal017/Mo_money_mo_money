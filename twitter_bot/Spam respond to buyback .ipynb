{
 "cells": [
  {
   "cell_type": "code",
   "execution_count": 1,
   "metadata": {},
   "outputs": [
    {
     "data": {
      "text/html": [
       "<style>.container { width:80% !important; }</style>"
      ],
      "text/plain": [
       "<IPython.core.display.HTML object>"
      ]
     },
     "metadata": {},
     "output_type": "display_data"
    }
   ],
   "source": [
    "import numpy as np\n",
    "import pandas as pd\n",
    "import matplotlib.pyplot as plt\n",
    "\n",
    "import warnings\n",
    "from IPython.core.display import display, HTML\n",
    "warnings.filterwarnings(\"ignore\") # suppress warnings because theyre annoying and i like living on the edge\n",
    "pd.set_option('display.max_columns',100) # so i can see all columns\n",
    "np.set_printoptions(linewidth = 220) # increase numpy array print\n",
    "display(HTML(\"<style>.container { width:80% !important; }</style>\")) # widen jupyter notebook blocks"
   ]
  },
  {
   "cell_type": "code",
   "execution_count": 8,
   "metadata": {
    "scrolled": true
   },
   "outputs": [],
   "source": [
    "import requests\n",
    "import os\n",
    "import json\n",
    "\n",
    "# To set your enviornment variables in your terminal run the following line:\n",
    "# export 'BEARER_TOKEN'='<your_bearer_token>'\n",
    "\n",
    "\n",
    "def auth():\n",
    "    # bearer token received from curl via https://developer.twitter.com/en/docs/authentication/oauth-2-0/bearer-tokens\n",
    "    with open('C:/Users/songb/Documents/py_secure/twitter_bearer_token.txt','r') as in_:\n",
    "        token = in_.read()\n",
    "    return token\n",
    "#     return os.environ.get(\"BEARER_TOKEN\")\n",
    "\n",
    "\n",
    "def create_url(query = 'test',additional_ = '', test = False):\n",
    "    if test:\n",
    "        query = \"from:twitterdev -is:retweet\"\n",
    "        # Tweet fields are additional content to receive other than id and text.\n",
    "        # Tweet fields are adjustable.\n",
    "        # Options include:\n",
    "        # attachments, author_id, context_annotations,\n",
    "        # conversation_id, created_at, entities, geo, id,\n",
    "        # in_reply_to_user_id, lang, non_public_metrics, organic_metrics,\n",
    "        # possibly_sensitive, promoted_metrics, public_metrics, referenced_tweets,\n",
    "        # source, text, and withheld\n",
    "        additional_ = \"tweet.fields=author_id\"\n",
    "\n",
    "    url = \"https://api.twitter.com/2/tweets/search/recent?query={}&{}\".format(\n",
    "            query, additional_\n",
    "          )\n",
    "    return url\n",
    "\n",
    "\n",
    "def create_headers(bearer_token):\n",
    "    headers = {\"Authorization\": \"Bearer {}\".format(bearer_token)}\n",
    "    return headers\n",
    "\n",
    "\n",
    "def connect_to_endpoint(url, headers):\n",
    "    response = requests.request(\"GET\", url, headers=headers)\n",
    "    print(response.status_code)\n",
    "    if response.status_code != 200:\n",
    "        raise Exception(response.status_code, response.text)\n",
    "    return response.json()\n",
    "\n",
    "\n",
    "def main():\n",
    "    bearer_token = auth()\n",
    "    url = create_url()\n",
    "    headers = create_headers(bearer_token)\n",
    "    json_response = connect_to_endpoint(url, headers)\n",
    "    print(json.dumps(json_response, indent=4, sort_keys=True))\n",
    "\n",
    "\n",
    "# if __name__ == \"__main__\":\n",
    "#     main()"
   ]
  },
  {
   "cell_type": "code",
   "execution_count": 15,
   "metadata": {
    "scrolled": true
   },
   "outputs": [
    {
     "name": "stdout",
     "output_type": "stream",
     "text": [
      "200\n",
      "{\n",
      "    \"data\": [\n",
      "        {\n",
      "            \"id\": \"1404332613599260674\",\n",
      "            \"text\": \"@AQ_Community @MELD_labs Will your token have any other DeFI features like staking, yield farm or NFT in the future? and do you have a BuyBack system or a Token Burn plan to increase Token value &amp; attract Investors to invest?\\n@tunu_david @Harrypee10 @ModuySar\"\n",
      "        },\n",
      "        {\n",
      "            \"id\": \"1404324087464304645\",\n",
      "            \"text\": \"@MoonShinchan @2crazylive After seeing on their website that 2Crazy has a unique Buyback Program. Can you tell us what this repurchase program is and how it differs from other project programs? Is this a manual or automated process for the user?\\n@disfungsional @luckluckan1 @valdiray1\"\n",
      "        },\n",
      "        {\n",
      "            \"id\": \"1404321720152952836\",\n",
      "            \"text\": \"@BlockchainInfi2 @Enter_Realm Are you planning to boost Token value and get investment by Coin Burn and BuyBack systems or any $Token Burn? @paolo_domingo1M @Paolul6 @PaoLUL_\"\n",
      "        },\n",
      "        {\n",
      "            \"id\": \"1404312517921447943\",\n",
      "            \"text\": \"@MedianSky101 @ReshadRahman_ @mohamedbouhafsi clubs pay fees to loan players, or cover their wages, depends on what the loaning club wants. They don\\u2019t have to insert a buyback clause, they can simply have an agreement to sell at a certain price\"\n",
      "        },\n",
      "        {\n",
      "            \"id\": \"1404310005893844995\",\n",
      "            \"text\": \"@Infinity_AMA @Safesol_finance Lately we\\u2019ve seen many projects adopt buyback-and-burn programs to support long term price stability and value growth. What do you think about it? Have you thought about incorporating this program? Or will Safesol Finance use other strategies to ensure price stability?\"\n",
      "        },\n",
      "        {\n",
      "            \"id\": \"1404309716130418693\",\n",
      "            \"text\": \"@Infinity_AMA @Safesol_finance Do you have any Coin Burn / BuyBack systems or any Token Burn plans to increase the value of Token &amp; attract Investors to invest?\\n@JuliaHB1 @DFAPHL\"\n",
      "        },\n",
      "        {\n",
      "            \"id\": \"1404300988073213952\",\n",
      "            \"text\": \"@CryptoTitans1 @BakerySwpstks Lately we\\u2019ve seen many projects adopt buyback-and-burn programs to support long term price stability and value growth. What do you think about it? Have you thought about incorporating this program? Or will Bakery Sweepstakes use other strategies to ensure price stability?\"\n",
      "        },\n",
      "        {\n",
      "            \"id\": \"1404293962123255809\",\n",
      "            \"text\": \"@CryptoSpiritVN @Safesol_finance Lately we\\u2019ve seen many projects adopt buyback-and-burn programs to support long term price stability and value growth. What do you think about it? Have you thought about incorporating this program? Or will Safesol Finance use other strategies to ensure price stability?\"\n",
      "        },\n",
      "        {\n",
      "            \"id\": \"1404283240949583875\",\n",
      "            \"text\": \"@Cryptoscape1 @zodiacs_c On the topic of the need to increase the value of the token or reduce market capitalization, will the CZodiacs Ecosystem accommodate a BuyBack/Token burn mechanism after the token sale or in the near future?@19rhagum\\n@Bryan56535180 @asharirmdn\"\n",
      "        },\n",
      "        {\n",
      "            \"id\": \"1404281560631808001\",\n",
      "            \"text\": \"\\u2600\\ufe0f\\ud83d\\udce3 TRADE OR GET PAID - BUYBACK EVENT!\\ud83d\\udce3\\u2600\\ufe0f \\n*********** Easy as 1,2,3!! ***********\\n\\u2600\\ufe0f Step 1: Bring your Vehicle to Nissan of Melbourne\\n--- And Terminate your Existing Loan or Lease!\\n\\u2600\\ufe0f Step 2: 15 Minute Trade Evaluation\\n--- Up to $5,000 Over Book Va\\u2026 https://t.co/7sAdBP8H0P\"\n",
      "        }\n",
      "    ],\n",
      "    \"meta\": {\n",
      "        \"newest_id\": \"1404332613599260674\",\n",
      "        \"next_token\": \"b26v89c19zqg8o3fpdg8lkhzn1duj47sh2rshxu9wo4n1\",\n",
      "        \"oldest_id\": \"1404281560631808001\",\n",
      "        \"result_count\": 10\n",
      "    }\n",
      "}\n"
     ]
    }
   ],
   "source": [
    "from datetime import datetime, timedelta\n",
    "\n",
    "# Initialize\n",
    "bearer_token = auth()\n",
    "\n",
    "# Get buyback tweets in the last n minutes\n",
    "\n",
    "n = 60 # minutes\n",
    "query_ = 'buyback or #buyback lang:en'\n",
    "additional_=''\n",
    "start_date = (datetime.now() - timedelta(hours=0, minutes=n)).isoformat()\n",
    "additional_ += 'start_time='+start_date\n",
    "additional_ += '&tweet.fields=source'\n",
    "url = create_url(query_, additional_)\n",
    "headers = create_headers(bearer_token)\n",
    "json_response = connect_to_endpoint(url, headers)\n",
    "print(json.dumps(json_response, indent=4, sort_keys=True))\n",
    "\n"
   ]
  },
  {
   "cell_type": "code",
   "execution_count": 27,
   "metadata": {
    "scrolled": true
   },
   "outputs": [
    {
     "data": {
      "text/plain": [
       "<Response [200]>"
      ]
     },
     "execution_count": 27,
     "metadata": {},
     "output_type": "execute_result"
    }
   ],
   "source": [
    "from random import randint\n",
    "# Get the link for the returned tweets\n",
    "def tweet_url(id_):\n",
    "    # generic url to grab twitter status link\n",
    "    # only really used for slack webhook QA. unnecessary for \n",
    "    # twitter api\n",
    "    \n",
    "    url = 'https://twitter.com/i/web/status/' + id_\n",
    "    return url\n",
    "\n",
    "def tweet_cleaner(text):\n",
    "    # tweet to come out clean when using blockquote\n",
    "    # only really used for slack webhook QA. unnecessary for \n",
    "    # twitter api\n",
    "    \n",
    "    text = text.replace('\\n','\\n>')\n",
    "    return text\n",
    "urls = []\n",
    "for i in json_response['data']:\n",
    "    urls.append((tweet_url(i['id']),tweet_cleaner(i['text'])))\n",
    "\n",
    "# Write response tweet\n",
    "responses = []\n",
    "for i in range(len(urls)):\n",
    "    message = '*For:* ' + urls[i][0] + '\\n'\n",
    "    message += '>' + urls[i][1] + '\\n\\n'\n",
    "    rand = randint(0,1)\n",
    "    message += '*Response Messsage*:\\nFacts about buybacks: '\n",
    "    if rand == 0:\n",
    "        message += '\\nhttps://twitter.com/theponzifactor/status/1403851743381839872/video/1'\n",
    "    elif rand == 1:\n",
    "        message += '\\nhttps://imgur.com/a/pGKkrX8 (Note: can\\'t upload images to slack, but can through twitter api)'\n",
    "    responses.append(message)\n",
    "# Send response tweet\n",
    "with open('C:/Users/songb/Documents/py_secure/twitter_buyback_slackhook.txt','r') as in_:\n",
    "    slack_hook = in_.read()\n",
    "\n",
    "all_messages = '\\n\\n_________________________________________________\\n\\n'.join(responses)\n",
    "myobj = {\"text\":all_messages}\n",
    "requests.post(slack_hook, json = myobj)"
   ]
  },
  {
   "cell_type": "code",
   "execution_count": null,
   "metadata": {},
   "outputs": [],
   "source": []
  }
 ],
 "metadata": {
  "kernelspec": {
   "display_name": "Python 3",
   "language": "python",
   "name": "python3"
  },
  "language_info": {
   "codemirror_mode": {
    "name": "ipython",
    "version": 3
   },
   "file_extension": ".py",
   "mimetype": "text/x-python",
   "name": "python",
   "nbconvert_exporter": "python",
   "pygments_lexer": "ipython3",
   "version": "3.7.6"
  }
 },
 "nbformat": 4,
 "nbformat_minor": 2
}
