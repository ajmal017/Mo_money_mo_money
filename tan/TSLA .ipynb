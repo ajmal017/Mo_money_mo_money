{
 "cells": [
  {
   "cell_type": "markdown",
   "metadata": {},
   "source": [
    "data from https://stooq.com/db/h/\n",
    "\n",
    "time is in CEST (Central European Summer Time)"
   ]
  },
  {
   "cell_type": "markdown",
   "metadata": {},
   "source": [
    "## Initialization"
   ]
  },
  {
   "cell_type": "code",
   "execution_count": 1,
   "metadata": {},
   "outputs": [],
   "source": [
    "import pandas as pd\n",
    "import numpy as np\n",
    "import matplotlib.pyplot as plt\n",
    "from datetime import timedelta, time, datetime"
   ]
  },
  {
   "cell_type": "code",
   "execution_count": 2,
   "metadata": {},
   "outputs": [],
   "source": [
    "work_dir = 'D:/5_us_txt/data/5 min/us/nasdaq stocks/2/'\n",
    "df = pd.read_csv(work_dir + 'tsla.us.txt')"
   ]
  },
  {
   "cell_type": "code",
   "execution_count": 3,
   "metadata": {},
   "outputs": [
    {
     "data": {
      "text/html": [
       "<div>\n",
       "<style scoped>\n",
       "    .dataframe tbody tr th:only-of-type {\n",
       "        vertical-align: middle;\n",
       "    }\n",
       "\n",
       "    .dataframe tbody tr th {\n",
       "        vertical-align: top;\n",
       "    }\n",
       "\n",
       "    .dataframe thead th {\n",
       "        text-align: right;\n",
       "    }\n",
       "</style>\n",
       "<table border=\"1\" class=\"dataframe\">\n",
       "  <thead>\n",
       "    <tr style=\"text-align: right;\">\n",
       "      <th></th>\n",
       "      <th>&lt;TICKER&gt;</th>\n",
       "      <th>&lt;PER&gt;</th>\n",
       "      <th>&lt;DATE&gt;</th>\n",
       "      <th>&lt;TIME&gt;</th>\n",
       "      <th>&lt;OPEN&gt;</th>\n",
       "      <th>&lt;HIGH&gt;</th>\n",
       "      <th>&lt;LOW&gt;</th>\n",
       "      <th>&lt;CLOSE&gt;</th>\n",
       "      <th>&lt;VOL&gt;</th>\n",
       "      <th>&lt;OPENINT&gt;</th>\n",
       "    </tr>\n",
       "  </thead>\n",
       "  <tbody>\n",
       "    <tr>\n",
       "      <th>0</th>\n",
       "      <td>TSLA.US</td>\n",
       "      <td>5</td>\n",
       "      <td>20200706</td>\n",
       "      <td>153000</td>\n",
       "      <td>1276.69</td>\n",
       "      <td>1284.27</td>\n",
       "      <td>1266.04</td>\n",
       "      <td>1281.71</td>\n",
       "      <td>520562</td>\n",
       "      <td>0</td>\n",
       "    </tr>\n",
       "    <tr>\n",
       "      <th>1</th>\n",
       "      <td>TSLA.US</td>\n",
       "      <td>5</td>\n",
       "      <td>20200706</td>\n",
       "      <td>153500</td>\n",
       "      <td>1281.72</td>\n",
       "      <td>1282.45</td>\n",
       "      <td>1272.13</td>\n",
       "      <td>1274.68</td>\n",
       "      <td>138299</td>\n",
       "      <td>0</td>\n",
       "    </tr>\n",
       "    <tr>\n",
       "      <th>2</th>\n",
       "      <td>TSLA.US</td>\n",
       "      <td>5</td>\n",
       "      <td>20200706</td>\n",
       "      <td>154000</td>\n",
       "      <td>1275.18</td>\n",
       "      <td>1294.00</td>\n",
       "      <td>1270.07</td>\n",
       "      <td>1292.54</td>\n",
       "      <td>286518</td>\n",
       "      <td>0</td>\n",
       "    </tr>\n",
       "    <tr>\n",
       "      <th>3</th>\n",
       "      <td>TSLA.US</td>\n",
       "      <td>5</td>\n",
       "      <td>20200706</td>\n",
       "      <td>154500</td>\n",
       "      <td>1292.94</td>\n",
       "      <td>1298.00</td>\n",
       "      <td>1288.35</td>\n",
       "      <td>1293.00</td>\n",
       "      <td>315377</td>\n",
       "      <td>0</td>\n",
       "    </tr>\n",
       "    <tr>\n",
       "      <th>4</th>\n",
       "      <td>TSLA.US</td>\n",
       "      <td>5</td>\n",
       "      <td>20200706</td>\n",
       "      <td>155000</td>\n",
       "      <td>1293.48</td>\n",
       "      <td>1297.81</td>\n",
       "      <td>1286.67</td>\n",
       "      <td>1297.38</td>\n",
       "      <td>203295</td>\n",
       "      <td>0</td>\n",
       "    </tr>\n",
       "  </tbody>\n",
       "</table>\n",
       "</div>"
      ],
      "text/plain": [
       "  <TICKER>  <PER>    <DATE>  <TIME>   <OPEN>   <HIGH>    <LOW>  <CLOSE>  \\\n",
       "0  TSLA.US      5  20200706  153000  1276.69  1284.27  1266.04  1281.71   \n",
       "1  TSLA.US      5  20200706  153500  1281.72  1282.45  1272.13  1274.68   \n",
       "2  TSLA.US      5  20200706  154000  1275.18  1294.00  1270.07  1292.54   \n",
       "3  TSLA.US      5  20200706  154500  1292.94  1298.00  1288.35  1293.00   \n",
       "4  TSLA.US      5  20200706  155000  1293.48  1297.81  1286.67  1297.38   \n",
       "\n",
       "    <VOL>  <OPENINT>  \n",
       "0  520562          0  \n",
       "1  138299          0  \n",
       "2  286518          0  \n",
       "3  315377          0  \n",
       "4  203295          0  "
      ]
     },
     "execution_count": 3,
     "metadata": {},
     "output_type": "execute_result"
    }
   ],
   "source": [
    "df.head()"
   ]
  },
  {
   "cell_type": "code",
   "execution_count": 4,
   "metadata": {},
   "outputs": [],
   "source": [
    "cols = ['ticker','period','date','time',\n",
    "        'open','high','low','close','vol','openint']\n",
    "df.columns = cols"
   ]
  },
  {
   "cell_type": "code",
   "execution_count": 5,
   "metadata": {},
   "outputs": [],
   "source": [
    "# datetime in PST\n",
    "df['datetime'] = pd.to_datetime(df['date'].astype(str) + df['time'].astype(str), format = '%Y%m%d%H%M%S') - timedelta(hours = 9)"
   ]
  },
  {
   "cell_type": "code",
   "execution_count": null,
   "metadata": {},
   "outputs": [],
   "source": [
    "V"
   ]
  },
  {
   "cell_type": "code",
   "execution_count": 13,
   "metadata": {},
   "outputs": [],
   "source": [
    "# volume of last six 5-minute intervals (30 min total) \n",
    "for i in range(1,7):\n",
    "    df['vol_lag_' + str(i)] = df['vol'].shift(periods = i).fillna(0)\n",
    "\n",
    "# total volume last five 5-minute intervals (30 min total)\n",
    "df['tot_vol_5_lag'] = df[list(map(lambda x: 'vol_lag_' + str(x),range(1,6)))].apply(sum, axis = 1)"
   ]
  },
  {
   "cell_type": "code",
   "execution_count": 15,
   "metadata": {},
   "outputs": [],
   "source": [
    "df['val_30_min_ahead'] = df['open'].shift(periods = -6).fillna(0)\n",
    "df = df[df['val_30_min_ahead'] != 0].copy()"
   ]
  },
  {
   "cell_type": "code",
   "execution_count": 19,
   "metadata": {},
   "outputs": [],
   "source": [
    "x_cols = list(map(lambda x: 'vol_lag_' + str(i), range(1,6)))\n",
    "x_cols.extend(['tot_vol_5_lag'])\n",
    "y_col = 'val_30_min_ahead'\n",
    "\n",
    "x = df[x_cols]\n",
    "y = df[y_col]"
   ]
  },
  {
   "cell_type": "code",
   "execution_count": 21,
   "metadata": {},
   "outputs": [],
   "source": [
    "from sklearn.ensemble import RandomForestRegressor\n",
    "from sklearn.model_selection import train_test_split\n",
    "\n",
    "xtr, xte, ytr, yte = train_test_split(x,y)\n",
    "rf = RandomForestRegressor()\n",
    "rf.fit(xtr,ytr)\n",
    "preds = rf.predict(xte)"
   ]
  },
  {
   "cell_type": "code",
   "execution_count": 27,
   "metadata": {},
   "outputs": [
    {
     "data": {
      "image/png": "[encoded data removed]",
      "text/plain": [
       "<Figure size 720x720 with 1 Axes>"
      ]
     },
     "metadata": {
      "needs_background": "light"
     },
     "output_type": "display_data"
    },
    {
     "name": "stdout",
     "output_type": "stream",
     "text": [
      "Correlation: 0.06\n"
     ]
    }
   ],
   "source": [
    "from scipy.stats import pearsonr\n",
    "x_vals = yte; y_vals = preds\n",
    "\n",
    "plt.figure(figsize = [10,10])\n",
    "plt.scatter(x_vals, y_vals, s =1)\n",
    "plt.show()\n",
    "corr = pearsonr(x_vals, y_vals)\n",
    "print('Correlation: ' + str(round(corr[0],2)))"
   ]
  }
 ],
 "metadata": {
  "kernelspec": {
   "display_name": "Python 3",
   "language": "python",
   "name": "python3"
  },
  "language_info": {
   "codemirror_mode": {
    "name": "ipython",
    "version": 3
   },
   "file_extension": ".py",
   "mimetype": "text/x-python",
   "name": "python",
   "nbconvert_exporter": "python",
   "pygments_lexer": "ipython3",
   "version": "3.7.6"
  }
 },
 "nbformat": 4,
 "nbformat_minor": 2
}
