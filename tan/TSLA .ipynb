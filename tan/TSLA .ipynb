{
 "cells": [
  {
   "cell_type": "code",
   "execution_count": 1,
   "metadata": {},
   "outputs": [],
   "source": [
    "import pandas as pd\n",
    "import numpy as np\n",
    "import matplotlib.pyplot as plt\n"
   ]
  },
  {
   "cell_type": "code",
   "execution_count": 2,
   "metadata": {},
   "outputs": [],
   "source": [
    "df = pd.read_csv('HistoricalQuotes TSLA.csv')"
   ]
  },
  {
   "cell_type": "code",
   "execution_count": 4,
   "metadata": {},
   "outputs": [],
   "source": [
    "df['Date'] = pd.to_datetime(df['Date'])"
   ]
  },
  {
   "cell_type": "code",
   "execution_count": 17,
   "metadata": {},
   "outputs": [],
   "source": [
    "df.columns = ['Date','Close/Last','Volume','Open','High','Low']"
   ]
  },
  {
   "cell_type": "code",
   "execution_count": 18,
   "metadata": {},
   "outputs": [
    {
     "data": {
      "text/plain": [
       "['Date', 'Close/Last', 'Volume', 'Open', 'High', 'Low']"
      ]
     },
     "execution_count": 18,
     "metadata": {},
     "output_type": "execute_result"
    }
   ],
   "source": [
    "list(df)"
   ]
  },
  {
   "cell_type": "code",
   "execution_count": 19,
   "metadata": {},
   "outputs": [],
   "source": [
    "for i in ['Close/Last','Volume','Open','High','Low']:\n",
    "    df[i] = df[i].map(lambda x: float(str(x)[1:].replace(',','')))"
   ]
  },
  {
   "cell_type": "code",
   "execution_count": 20,
   "metadata": {},
   "outputs": [
    {
     "data": {
      "text/html": [
       "<div>\n",
       "<style scoped>\n",
       "    .dataframe tbody tr th:only-of-type {\n",
       "        vertical-align: middle;\n",
       "    }\n",
       "\n",
       "    .dataframe tbody tr th {\n",
       "        vertical-align: top;\n",
       "    }\n",
       "\n",
       "    .dataframe thead th {\n",
       "        text-align: right;\n",
       "    }\n",
       "</style>\n",
       "<table border=\"1\" class=\"dataframe\">\n",
       "  <thead>\n",
       "    <tr style=\"text-align: right;\">\n",
       "      <th></th>\n",
       "      <th>Date</th>\n",
       "      <th>Close/Last</th>\n",
       "      <th>Volume</th>\n",
       "      <th>Open</th>\n",
       "      <th>High</th>\n",
       "      <th>Low</th>\n",
       "    </tr>\n",
       "  </thead>\n",
       "  <tbody>\n",
       "    <tr>\n",
       "      <th>0</th>\n",
       "      <td>2020-08-14</td>\n",
       "      <td>50.71</td>\n",
       "      <td>577610.0</td>\n",
       "      <td>664.99</td>\n",
       "      <td>668.80</td>\n",
       "      <td>626.64</td>\n",
       "    </tr>\n",
       "    <tr>\n",
       "      <th>1</th>\n",
       "      <td>2020-08-13</td>\n",
       "      <td>21.00</td>\n",
       "      <td>25310.0</td>\n",
       "      <td>611.00</td>\n",
       "      <td>651.18</td>\n",
       "      <td>567.26</td>\n",
       "    </tr>\n",
       "    <tr>\n",
       "      <th>2</th>\n",
       "      <td>2020-08-12</td>\n",
       "      <td>54.76</td>\n",
       "      <td>898830.0</td>\n",
       "      <td>470.00</td>\n",
       "      <td>585.00</td>\n",
       "      <td>435.00</td>\n",
       "    </tr>\n",
       "    <tr>\n",
       "      <th>3</th>\n",
       "      <td>2020-08-11</td>\n",
       "      <td>74.39</td>\n",
       "      <td>25834.0</td>\n",
       "      <td>396.00</td>\n",
       "      <td>420.00</td>\n",
       "      <td>365.00</td>\n",
       "    </tr>\n",
       "    <tr>\n",
       "      <th>4</th>\n",
       "      <td>2020-08-10</td>\n",
       "      <td>18.57</td>\n",
       "      <td>22264.0</td>\n",
       "      <td>448.00</td>\n",
       "      <td>457.50</td>\n",
       "      <td>385.84</td>\n",
       "    </tr>\n",
       "    <tr>\n",
       "      <th>...</th>\n",
       "      <td>...</td>\n",
       "      <td>...</td>\n",
       "      <td>...</td>\n",
       "      <td>...</td>\n",
       "      <td>...</td>\n",
       "      <td>...</td>\n",
       "    </tr>\n",
       "    <tr>\n",
       "      <th>247</th>\n",
       "      <td>2019-08-22</td>\n",
       "      <td>2.15</td>\n",
       "      <td>64964.0</td>\n",
       "      <td>22.80</td>\n",
       "      <td>25.40</td>\n",
       "      <td>18.22</td>\n",
       "    </tr>\n",
       "    <tr>\n",
       "      <th>248</th>\n",
       "      <td>2019-08-21</td>\n",
       "      <td>0.83</td>\n",
       "      <td>99744.0</td>\n",
       "      <td>22.01</td>\n",
       "      <td>23.22</td>\n",
       "      <td>17.60</td>\n",
       "    </tr>\n",
       "    <tr>\n",
       "      <th>249</th>\n",
       "      <td>2019-08-20</td>\n",
       "      <td>5.86</td>\n",
       "      <td>70527.0</td>\n",
       "      <td>27.62</td>\n",
       "      <td>29.09</td>\n",
       "      <td>24.54</td>\n",
       "    </tr>\n",
       "    <tr>\n",
       "      <th>250</th>\n",
       "      <td>2019-08-19</td>\n",
       "      <td>6.83</td>\n",
       "      <td>11748.0</td>\n",
       "      <td>24.21</td>\n",
       "      <td>27.83</td>\n",
       "      <td>21.70</td>\n",
       "    </tr>\n",
       "    <tr>\n",
       "      <th>251</th>\n",
       "      <td>2019-08-16</td>\n",
       "      <td>9.94</td>\n",
       "      <td>7376.0</td>\n",
       "      <td>16.66</td>\n",
       "      <td>22.24</td>\n",
       "      <td>16.02</td>\n",
       "    </tr>\n",
       "  </tbody>\n",
       "</table>\n",
       "<p>252 rows × 6 columns</p>\n",
       "</div>"
      ],
      "text/plain": [
       "          Date  Close/Last    Volume    Open    High     Low\n",
       "0   2020-08-14       50.71  577610.0  664.99  668.80  626.64\n",
       "1   2020-08-13       21.00   25310.0  611.00  651.18  567.26\n",
       "2   2020-08-12       54.76  898830.0  470.00  585.00  435.00\n",
       "3   2020-08-11       74.39   25834.0  396.00  420.00  365.00\n",
       "4   2020-08-10       18.57   22264.0  448.00  457.50  385.84\n",
       "..         ...         ...       ...     ...     ...     ...\n",
       "247 2019-08-22        2.15   64964.0   22.80   25.40   18.22\n",
       "248 2019-08-21        0.83   99744.0   22.01   23.22   17.60\n",
       "249 2019-08-20        5.86   70527.0   27.62   29.09   24.54\n",
       "250 2019-08-19        6.83   11748.0   24.21   27.83   21.70\n",
       "251 2019-08-16        9.94    7376.0   16.66   22.24   16.02\n",
       "\n",
       "[252 rows x 6 columns]"
      ]
     },
     "execution_count": 20,
     "metadata": {},
     "output_type": "execute_result"
    }
   ],
   "source": [
    "df"
   ]
  },
  {
   "cell_type": "code",
   "execution_count": null,
   "metadata": {},
   "outputs": [],
   "source": []
  }
 ],
 "metadata": {
  "kernelspec": {
   "display_name": "Python 3",
   "language": "python",
   "name": "python3"
  },
  "language_info": {
   "codemirror_mode": {
    "name": "ipython",
    "version": 3
   },
   "file_extension": ".py",
   "mimetype": "text/x-python",
   "name": "python",
   "nbconvert_exporter": "python",
   "pygments_lexer": "ipython3",
   "version": "3.7.6"
  }
 },
 "nbformat": 4,
 "nbformat_minor": 2
}
