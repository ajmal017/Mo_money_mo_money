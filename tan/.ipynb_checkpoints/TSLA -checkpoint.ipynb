{
 "cells": [
  {
   "cell_type": "markdown",
   "metadata": {},
   "source": [
    "data from https://stooq.com/db/h/"
   ]
  },
  {
   "cell_type": "code",
   "execution_count": 27,
   "metadata": {},
   "outputs": [],
   "source": [
    "import pandas as pd\n",
    "import numpy as np\n",
    "import matplotlib.pyplot as plt\n",
    "from datetime import timedelta, time, datetime"
   ]
  },
  {
   "cell_type": "code",
   "execution_count": 47,
   "metadata": {},
   "outputs": [],
   "source": [
    "work_dir = 'D:/5_us_txt/data/5 min/us/nasdaq stocks/2/'\n",
    "df = pd.read_csv(work_dir + 'tsla.us.txt')"
   ]
  },
  {
   "cell_type": "code",
   "execution_count": 48,
   "metadata": {},
   "outputs": [
    {
     "data": {
      "text/html": [
       "<div>\n",
       "<style scoped>\n",
       "    .dataframe tbody tr th:only-of-type {\n",
       "        vertical-align: middle;\n",
       "    }\n",
       "\n",
       "    .dataframe tbody tr th {\n",
       "        vertical-align: top;\n",
       "    }\n",
       "\n",
       "    .dataframe thead th {\n",
       "        text-align: right;\n",
       "    }\n",
       "</style>\n",
       "<table border=\"1\" class=\"dataframe\">\n",
       "  <thead>\n",
       "    <tr style=\"text-align: right;\">\n",
       "      <th></th>\n",
       "      <th>&lt;TICKER&gt;</th>\n",
       "      <th>&lt;PER&gt;</th>\n",
       "      <th>&lt;DATE&gt;</th>\n",
       "      <th>&lt;TIME&gt;</th>\n",
       "      <th>&lt;OPEN&gt;</th>\n",
       "      <th>&lt;HIGH&gt;</th>\n",
       "      <th>&lt;LOW&gt;</th>\n",
       "      <th>&lt;CLOSE&gt;</th>\n",
       "      <th>&lt;VOL&gt;</th>\n",
       "      <th>&lt;OPENINT&gt;</th>\n",
       "    </tr>\n",
       "  </thead>\n",
       "  <tbody>\n",
       "    <tr>\n",
       "      <th>0</th>\n",
       "      <td>TSLA.US</td>\n",
       "      <td>5</td>\n",
       "      <td>20200706</td>\n",
       "      <td>153000</td>\n",
       "      <td>1276.69</td>\n",
       "      <td>1284.27</td>\n",
       "      <td>1266.04</td>\n",
       "      <td>1281.71</td>\n",
       "      <td>520562</td>\n",
       "      <td>0</td>\n",
       "    </tr>\n",
       "    <tr>\n",
       "      <th>1</th>\n",
       "      <td>TSLA.US</td>\n",
       "      <td>5</td>\n",
       "      <td>20200706</td>\n",
       "      <td>153500</td>\n",
       "      <td>1281.72</td>\n",
       "      <td>1282.45</td>\n",
       "      <td>1272.13</td>\n",
       "      <td>1274.68</td>\n",
       "      <td>138299</td>\n",
       "      <td>0</td>\n",
       "    </tr>\n",
       "    <tr>\n",
       "      <th>2</th>\n",
       "      <td>TSLA.US</td>\n",
       "      <td>5</td>\n",
       "      <td>20200706</td>\n",
       "      <td>154000</td>\n",
       "      <td>1275.18</td>\n",
       "      <td>1294.00</td>\n",
       "      <td>1270.07</td>\n",
       "      <td>1292.54</td>\n",
       "      <td>286518</td>\n",
       "      <td>0</td>\n",
       "    </tr>\n",
       "    <tr>\n",
       "      <th>3</th>\n",
       "      <td>TSLA.US</td>\n",
       "      <td>5</td>\n",
       "      <td>20200706</td>\n",
       "      <td>154500</td>\n",
       "      <td>1292.94</td>\n",
       "      <td>1298.00</td>\n",
       "      <td>1288.35</td>\n",
       "      <td>1293.00</td>\n",
       "      <td>315377</td>\n",
       "      <td>0</td>\n",
       "    </tr>\n",
       "    <tr>\n",
       "      <th>4</th>\n",
       "      <td>TSLA.US</td>\n",
       "      <td>5</td>\n",
       "      <td>20200706</td>\n",
       "      <td>155000</td>\n",
       "      <td>1293.48</td>\n",
       "      <td>1297.81</td>\n",
       "      <td>1286.67</td>\n",
       "      <td>1297.38</td>\n",
       "      <td>203295</td>\n",
       "      <td>0</td>\n",
       "    </tr>\n",
       "  </tbody>\n",
       "</table>\n",
       "</div>"
      ],
      "text/plain": [
       "  <TICKER>  <PER>    <DATE>  <TIME>   <OPEN>   <HIGH>    <LOW>  <CLOSE>  \\\n",
       "0  TSLA.US      5  20200706  153000  1276.69  1284.27  1266.04  1281.71   \n",
       "1  TSLA.US      5  20200706  153500  1281.72  1282.45  1272.13  1274.68   \n",
       "2  TSLA.US      5  20200706  154000  1275.18  1294.00  1270.07  1292.54   \n",
       "3  TSLA.US      5  20200706  154500  1292.94  1298.00  1288.35  1293.00   \n",
       "4  TSLA.US      5  20200706  155000  1293.48  1297.81  1286.67  1297.38   \n",
       "\n",
       "    <VOL>  <OPENINT>  \n",
       "0  520562          0  \n",
       "1  138299          0  \n",
       "2  286518          0  \n",
       "3  315377          0  \n",
       "4  203295          0  "
      ]
     },
     "execution_count": 48,
     "metadata": {},
     "output_type": "execute_result"
    }
   ],
   "source": [
    "df.head()"
   ]
  },
  {
   "cell_type": "code",
   "execution_count": 43,
   "metadata": {},
   "outputs": [],
   "source": [
    "cols = ['ticker','period','date','time',\n",
    "        'open','high','low','close','vol','openint']\n",
    "df.columns = cols\n"
   ]
  },
  {
   "cell_type": "code",
   "execution_count": 44,
   "metadata": {},
   "outputs": [],
   "source": [
    "df['date'] = pd.to_datetime(df['date'], format = '%Y%m%d')"
   ]
  },
  {
   "cell_type": "code",
   "execution_count": 45,
   "metadata": {},
   "outputs": [],
   "source": [
    "df['time'] = df['time'] / 5. / 60. # time will be in 'minutes since 12am'\n",
    "df['time_str'] = df['time'].map(lambda x: str(int(x/60.)) + ':' + str(round((x/60. % 1)*60,0)))"
   ]
  },
  {
   "cell_type": "code",
   "execution_count": 17,
   "metadata": {},
   "outputs": [],
   "source": [
    "df.columns = ['Date','Close/Last','Volume','Open','High','Low']"
   ]
  },
  {
   "cell_type": "code",
   "execution_count": 18,
   "metadata": {},
   "outputs": [
    {
     "data": {
      "text/plain": [
       "['Date', 'Close/Last', 'Volume', 'Open', 'High', 'Low']"
      ]
     },
     "execution_count": 18,
     "metadata": {},
     "output_type": "execute_result"
    }
   ],
   "source": [
    "list(df)"
   ]
  },
  {
   "cell_type": "code",
   "execution_count": 19,
   "metadata": {},
   "outputs": [],
   "source": [
    "for i in ['Close/Last','Volume','Open','High','Low']:\n",
    "    df[i] = df[i].map(lambda x: float(str(x)[1:].replace(',','')))"
   ]
  },
  {
   "cell_type": "code",
   "execution_count": 20,
   "metadata": {},
   "outputs": [
    {
     "data": {
      "text/html": [
       "<div>\n",
       "<style scoped>\n",
       "    .dataframe tbody tr th:only-of-type {\n",
       "        vertical-align: middle;\n",
       "    }\n",
       "\n",
       "    .dataframe tbody tr th {\n",
       "        vertical-align: top;\n",
       "    }\n",
       "\n",
       "    .dataframe thead th {\n",
       "        text-align: right;\n",
       "    }\n",
       "</style>\n",
       "<table border=\"1\" class=\"dataframe\">\n",
       "  <thead>\n",
       "    <tr style=\"text-align: right;\">\n",
       "      <th></th>\n",
       "      <th>Date</th>\n",
       "      <th>Close/Last</th>\n",
       "      <th>Volume</th>\n",
       "      <th>Open</th>\n",
       "      <th>High</th>\n",
       "      <th>Low</th>\n",
       "    </tr>\n",
       "  </thead>\n",
       "  <tbody>\n",
       "    <tr>\n",
       "      <th>0</th>\n",
       "      <td>2020-08-14</td>\n",
       "      <td>50.71</td>\n",
       "      <td>577610.0</td>\n",
       "      <td>664.99</td>\n",
       "      <td>668.80</td>\n",
       "      <td>626.64</td>\n",
       "    </tr>\n",
       "    <tr>\n",
       "      <th>1</th>\n",
       "      <td>2020-08-13</td>\n",
       "      <td>21.00</td>\n",
       "      <td>25310.0</td>\n",
       "      <td>611.00</td>\n",
       "      <td>651.18</td>\n",
       "      <td>567.26</td>\n",
       "    </tr>\n",
       "    <tr>\n",
       "      <th>2</th>\n",
       "      <td>2020-08-12</td>\n",
       "      <td>54.76</td>\n",
       "      <td>898830.0</td>\n",
       "      <td>470.00</td>\n",
       "      <td>585.00</td>\n",
       "      <td>435.00</td>\n",
       "    </tr>\n",
       "    <tr>\n",
       "      <th>3</th>\n",
       "      <td>2020-08-11</td>\n",
       "      <td>74.39</td>\n",
       "      <td>25834.0</td>\n",
       "      <td>396.00</td>\n",
       "      <td>420.00</td>\n",
       "      <td>365.00</td>\n",
       "    </tr>\n",
       "    <tr>\n",
       "      <th>4</th>\n",
       "      <td>2020-08-10</td>\n",
       "      <td>18.57</td>\n",
       "      <td>22264.0</td>\n",
       "      <td>448.00</td>\n",
       "      <td>457.50</td>\n",
       "      <td>385.84</td>\n",
       "    </tr>\n",
       "    <tr>\n",
       "      <th>...</th>\n",
       "      <td>...</td>\n",
       "      <td>...</td>\n",
       "      <td>...</td>\n",
       "      <td>...</td>\n",
       "      <td>...</td>\n",
       "      <td>...</td>\n",
       "    </tr>\n",
       "    <tr>\n",
       "      <th>247</th>\n",
       "      <td>2019-08-22</td>\n",
       "      <td>2.15</td>\n",
       "      <td>64964.0</td>\n",
       "      <td>22.80</td>\n",
       "      <td>25.40</td>\n",
       "      <td>18.22</td>\n",
       "    </tr>\n",
       "    <tr>\n",
       "      <th>248</th>\n",
       "      <td>2019-08-21</td>\n",
       "      <td>0.83</td>\n",
       "      <td>99744.0</td>\n",
       "      <td>22.01</td>\n",
       "      <td>23.22</td>\n",
       "      <td>17.60</td>\n",
       "    </tr>\n",
       "    <tr>\n",
       "      <th>249</th>\n",
       "      <td>2019-08-20</td>\n",
       "      <td>5.86</td>\n",
       "      <td>70527.0</td>\n",
       "      <td>27.62</td>\n",
       "      <td>29.09</td>\n",
       "      <td>24.54</td>\n",
       "    </tr>\n",
       "    <tr>\n",
       "      <th>250</th>\n",
       "      <td>2019-08-19</td>\n",
       "      <td>6.83</td>\n",
       "      <td>11748.0</td>\n",
       "      <td>24.21</td>\n",
       "      <td>27.83</td>\n",
       "      <td>21.70</td>\n",
       "    </tr>\n",
       "    <tr>\n",
       "      <th>251</th>\n",
       "      <td>2019-08-16</td>\n",
       "      <td>9.94</td>\n",
       "      <td>7376.0</td>\n",
       "      <td>16.66</td>\n",
       "      <td>22.24</td>\n",
       "      <td>16.02</td>\n",
       "    </tr>\n",
       "  </tbody>\n",
       "</table>\n",
       "<p>252 rows × 6 columns</p>\n",
       "</div>"
      ],
      "text/plain": [
       "          Date  Close/Last    Volume    Open    High     Low\n",
       "0   2020-08-14       50.71  577610.0  664.99  668.80  626.64\n",
       "1   2020-08-13       21.00   25310.0  611.00  651.18  567.26\n",
       "2   2020-08-12       54.76  898830.0  470.00  585.00  435.00\n",
       "3   2020-08-11       74.39   25834.0  396.00  420.00  365.00\n",
       "4   2020-08-10       18.57   22264.0  448.00  457.50  385.84\n",
       "..         ...         ...       ...     ...     ...     ...\n",
       "247 2019-08-22        2.15   64964.0   22.80   25.40   18.22\n",
       "248 2019-08-21        0.83   99744.0   22.01   23.22   17.60\n",
       "249 2019-08-20        5.86   70527.0   27.62   29.09   24.54\n",
       "250 2019-08-19        6.83   11748.0   24.21   27.83   21.70\n",
       "251 2019-08-16        9.94    7376.0   16.66   22.24   16.02\n",
       "\n",
       "[252 rows x 6 columns]"
      ]
     },
     "execution_count": 20,
     "metadata": {},
     "output_type": "execute_result"
    }
   ],
   "source": [
    "df"
   ]
  },
  {
   "cell_type": "code",
   "execution_count": null,
   "metadata": {},
   "outputs": [],
   "source": []
  }
 ],
 "metadata": {
  "kernelspec": {
   "display_name": "Python 3",
   "language": "python",
   "name": "python3"
  },
  "language_info": {
   "codemirror_mode": {
    "name": "ipython",
    "version": 3
   },
   "file_extension": ".py",
   "mimetype": "text/x-python",
   "name": "python",
   "nbconvert_exporter": "python",
   "pygments_lexer": "ipython3",
   "version": "3.7.6"
  }
 },
 "nbformat": 4,
 "nbformat_minor": 2
}
