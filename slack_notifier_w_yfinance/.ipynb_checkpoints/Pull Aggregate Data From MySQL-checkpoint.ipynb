{
 "cells": [
  {
   "cell_type": "code",
   "execution_count": null,
   "metadata": {},
   "outputs": [],
   "source": [
    "import pandas as pd\n",
    "import numpy as np\n",
    "import matplotlib.pyplot as plt\n",
    "from datetime import timedelta, time, datetime\n",
    "\n",
    "\n",
    "import warnings\n",
    "from IPython.core.display import display, HTML\n",
    "warnings.filterwarnings(\"ignore\") # suppress warnings because theyre annoying and i like living on the edge\n",
    "pd.set_option('display.max_columns',100) # so i can see all columns\n",
    "np.set_printoptions(linewidth = 220) # increase numpy array print\n",
    "display(HTML(\"<style>.container { width:80% !important; }</style>\")) # widen jupyter notebook blocks"
   ]
  },
  {
   "cell_type": "code",
   "execution_count": null,
   "metadata": {},
   "outputs": [],
   "source": [
    "conn_cred = {\n",
    "    \"dbservername\":\"localhost\",\n",
    "    \"dbname\":\"main_schema\",\n",
    "    \"dbuser\":\"minx\",\n",
    "    \"dbpassword\":\"!xobILE!!!111!\"\n",
    "}"
   ]
  },
  {
   "cell_type": "code",
   "execution_count": null,
   "metadata": {},
   "outputs": [],
   "source": [
    "import pymysql as MySQLdb"
   ]
  },
  {
   "cell_type": "code",
   "execution_count": null,
   "metadata": {},
   "outputs": [],
   "source": [
    "\n",
    "def mysql_conn(db_conn_info):\n",
    "    '''\n",
    "    Call to connect to the database\n",
    "    '''\n",
    "    try:\n",
    "        dbconn_ = MySQLdb.connect(host=db_conn_info['dbservername'],\n",
    "                    db = db_conn_info['dbname'],\n",
    "                    user = db_conn_info['dbuser'],\n",
    "                    passwd = db_conn_info['dbpassword']\n",
    "                    )\n",
    "        cursor_ = dbconn_.cursor()\n",
    "        return dbconn_, cursor_\n",
    "\n",
    "    except Exception as e:\n",
    "        print('Error: ' + str(e))\n",
    "\n",
    "def db_conn_close(dbconn, cursor):\n",
    "    # closing connections to free up sockets\n",
    "    dbconn.commit()\n",
    "    cursor.close()\n",
    "    dbconn.close()\n",
    "    \n",
    "    \n",
    "def run_query(creds, query):\n",
    "    conn, cursor = mysql_conn(creds)\n",
    "\n",
    "    try:\n",
    "        cursor.execute(query)\n",
    "        rows = cursor.fetchall()\n",
    "    except Exception as e:\n",
    "        print('Error in running query: ' + str(e))\n",
    "    finally:\n",
    "        db_conn_close(conn, cursor)\n",
    "    return rows"
   ]
  },
  {
   "cell_type": "code",
   "execution_count": null,
   "metadata": {},
   "outputs": [],
   "source": [
    "query_ = 'SELECT * FROM {dbname}.bar_15min'.format(dbname = conn_cred['dbname'])\n",
    "rows = run_query(conn_cred,query_)"
   ]
  },
  {
   "cell_type": "code",
   "execution_count": null,
   "metadata": {},
   "outputs": [],
   "source": [
    "df = pd.DataFrame(rows, columns = ['symbol','datetime','open','close','high','low','volume'])"
   ]
  },
  {
   "cell_type": "code",
   "execution_count": null,
   "metadata": {},
   "outputs": [],
   "source": [
    "# df['delta'] = df['close'] - df['open']\n",
    "vals = df['close'].astype(float).values[1:] - df['close'].astype(float).values[:-1]\n",
    "vals = np.append(np.array([0]),vals)\n",
    "df['delta'] = vals"
   ]
  },
  {
   "cell_type": "code",
   "execution_count": null,
   "metadata": {},
   "outputs": [],
   "source": [
    "df['midpoint'] = (df['high'] + df['low']) / 2\n",
    "# df['midpoint'] = (df['open'] + df['close']) / 2\n",
    "\n",
    "vals = df['midpoint'].astype(float).values[1:] - df['midpoint'].astype(float).values[:-1]\n",
    "vals = np.append(np.array([0]),vals); vals\n",
    "df['midpoint_delta'] = vals"
   ]
  },
  {
   "cell_type": "code",
   "execution_count": null,
   "metadata": {},
   "outputs": [],
   "source": [
    "# def calculate_rsi(vals, prevU = 0, prevD = 0, n = 9):\n",
    "# #     alpha = 2 / (n+1) # exponential method\n",
    "#     alpha = 1\n",
    "#     U = np.sum(vals * (vals > 0).astype(int)) / n\n",
    "#     D = -1 * np.sum(vals * (vals < 0).astype(int)) / n\n",
    "#     avgU = alpha * U + (1 - alpha) * prevU\n",
    "#     avgD = alpha * D + (1 - alpha) * prevD\n",
    "\n",
    "#     prevU = avgU\n",
    "#     prevD = avgD\n",
    "#     rs = avgU / avgD\n",
    "#     rsi = 100.0 - 100.0 / (1 + rs)\n",
    "#     return rsi, prevU, prevD\n",
    "\n",
    "def calculate_rsi(val, prevU = 0, prevD = 0, n = 9):\n",
    "    if val > 0:\n",
    "        avgU = (prevU*(n-1) + val) / n\n",
    "        avgD = prevD*((n-1)/n)\n",
    "    else:\n",
    "        avgU = prevU*((n-1)/n)\n",
    "        avgD = (prevD*(n-1) - val) / n\n",
    "        \n",
    "    rs = avgU / avgD\n",
    "    rsi = 100.0 - 100.0 / (1 + rs)\n",
    "    return rsi, avgU, avgD"
   ]
  },
  {
   "cell_type": "code",
   "execution_count": null,
   "metadata": {},
   "outputs": [],
   "source": [
    "rsi_size = 9\n",
    "n_iter = df.shape[0] - rsi_size + 1\n",
    "rsi_list = []\n",
    "\n",
    "# first rsi\n",
    "\n",
    "vals = df['delta'].astype(float).values[:rsi_size]\n",
    "prevU = np.sum(vals * (vals > 0).astype(int)) / rsi_size\n",
    "prevD = -1 * np.sum(vals * (vals < 0).astype(int)) / rsi_size\n",
    "rs = prevU / prevD\n",
    "rsi_ = 100.0 - 100.0 / (1 + rs)\n",
    "rsi_list.append(rsi_)\n",
    "\n",
    "for i in range(rsi_size,df.shape[0]):\n",
    "    val = df['delta'].iloc[i]\n",
    "    rsi_, prevU, prevD = calculate_rsi(val, prevU, prevD)\n",
    "    rsi_list.append(rsi_)\n",
    "    "
   ]
  },
  {
   "cell_type": "code",
   "execution_count": null,
   "metadata": {},
   "outputs": [],
   "source": [
    "rsi_list"
   ]
  },
  {
   "cell_type": "code",
   "execution_count": null,
   "metadata": {},
   "outputs": [],
   "source": [
    "plt.figure(figsize = [15,5])\n",
    "plt.plot(range(n_iter), rsi_list)\n",
    "plt.ylim(0,100)\n",
    "plt.show()"
   ]
  },
  {
   "cell_type": "code",
   "execution_count": null,
   "metadata": {},
   "outputs": [],
   "source": [
    "temp = df[['datetime','close','delta']].copy()\n",
    "temp['rsi'] = [0] * (rsi_size-1) + rsi_list\n",
    "temp"
   ]
  },
  {
   "cell_type": "code",
   "execution_count": null,
   "metadata": {},
   "outputs": [],
   "source": []
  }
 ],
 "metadata": {
  "kernelspec": {
   "display_name": "Python 3",
   "language": "python",
   "name": "python3"
  },
  "language_info": {
   "codemirror_mode": {
    "name": "ipython",
    "version": 3
   },
   "file_extension": ".py",
   "mimetype": "text/x-python",
   "name": "python",
   "nbconvert_exporter": "python",
   "pygments_lexer": "ipython3",
   "version": "3.8.5"
  }
 },
 "nbformat": 4,
 "nbformat_minor": 4
}
