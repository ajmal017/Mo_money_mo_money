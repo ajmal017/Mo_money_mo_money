{
 "cells": [
  {
   "cell_type": "code",
   "execution_count": 2,
   "metadata": {},
   "outputs": [
    {
     "data": {
      "text/html": [
       "<style>.container { width:80% !important; }</style>"
      ],
      "text/plain": [
       "<IPython.core.display.HTML object>"
      ]
     },
     "metadata": {},
     "output_type": "display_data"
    }
   ],
   "source": [
    "import pickle\n",
    "\n",
    "import numpy as np\n",
    "import matplotlib.pyplot as plt\n",
    "import pandas as pd\n",
    "import math\n",
    "\n",
    "from keras.models import Sequential\n",
    "from keras.layers import Dense, LSTM, Dropout\n",
    "from sklearn.preprocessing import MinMaxScaler\n",
    "from sklearn.metrics import mean_squared_error\n",
    "\n",
    "import warnings\n",
    "from IPython.core.display import display, HTML\n",
    "warnings.filterwarnings(\"ignore\") # suppress warnings because theyre annoying and i like living on the edge\n",
    "pd.set_option('display.max_columns',100) # so i can see all columns\n",
    "np.set_printoptions(linewidth = 220) # increase numpy array print\n",
    "display(HTML(\"<style>.container { width:80% !important; }</style>\")) # widen jupyter notebook blocks\n"
   ]
  },
  {
   "cell_type": "markdown",
   "metadata": {},
   "source": [
    "https://stackoverflow.com/questions/42532386/how-to-work-with-multiple-inputs-for-lstm-in-keras"
   ]
  },
  {
   "cell_type": "code",
   "execution_count": 3,
   "metadata": {},
   "outputs": [],
   "source": [
    "work_dir = ''\n",
    "df = pd.read_csv(work_dir + 'aapl_mined.csv')"
   ]
  },
  {
   "cell_type": "code",
   "execution_count": 10,
   "metadata": {},
   "outputs": [],
   "source": [
    "n = 14\n",
    "cols = ['open','bar_range','diff','rsi_14_simple','velocity','moving_velocity']\n",
    "dataset = df.iloc[n:,:][cols].values\n",
    "n_cols = len(cols)"
   ]
  },
  {
   "cell_type": "code",
   "execution_count": 31,
   "metadata": {},
   "outputs": [],
   "source": [
    "def create_dataset(dataset, look_back=1):\n",
    "    dataX, dataY = [], []\n",
    "    for i in range(len(dataset) - look_back - 1):\n",
    "        a = dataset[i:(i + look_back), :]\n",
    "        dataX.append(a)\n",
    "        dataY.append(dataset[i + look_back, 0])\n",
    "    return np.array(dataX), np.array(dataY)\n"
   ]
  },
  {
   "cell_type": "code",
   "execution_count": 45,
   "metadata": {},
   "outputs": [
    {
     "data": {
      "text/plain": [
       "array([[0.37454545, 0.04511278, 0.5       , 0.8616382 , 0.54452681, 0.        ],\n",
       "       [0.37818182, 0.06766917, 0.59615385, 0.83503017, 0.50569787, 0.0923887 ],\n",
       "       [0.40727273, 0.09022556, 0.51923077, 0.80650155, 0.54452885, 0.19480255],\n",
       "       ...,\n",
       "       [0.2       , 0.03759398, 0.42307692, 0.53208556, 0.57569593, 0.68012467],\n",
       "       [0.19272727, 0.08270677, 0.25      , 0.47058824, 0.60299884, 0.71293075],\n",
       "       [0.15636364, 0.06766917, 0.42307692, 0.28180575, 0.57181964, 0.77527394]])"
      ]
     },
     "execution_count": 45,
     "metadata": {},
     "output_type": "execute_result"
    }
   ],
   "source": [
    "scaler.inverse_transform(dataset)"
   ]
  },
  {
   "cell_type": "code",
   "execution_count": 46,
   "metadata": {
    "scrolled": true
   },
   "outputs": [
    {
     "name": "stdout",
     "output_type": "stream",
     "text": [
      "Epoch 1/100\n",
      "66/66 [==============================] - 0s 5ms/step - loss: 0.7073 - val_loss: 0.2315\n",
      "Epoch 2/100\n",
      "66/66 [==============================] - 0s 1ms/step - loss: 0.1757 - val_loss: 0.0136\n",
      "Epoch 3/100\n",
      "66/66 [==============================] - 0s 1ms/step - loss: 0.0202 - val_loss: 0.0075\n",
      "Epoch 4/100\n",
      "66/66 [==============================] - 0s 1ms/step - loss: 0.0111 - val_loss: 0.0079\n",
      "Epoch 5/100\n",
      "66/66 [==============================] - 0s 1ms/step - loss: 0.0098 - val_loss: 0.0070\n",
      "Epoch 6/100\n",
      "66/66 [==============================] - 0s 1ms/step - loss: 0.0085 - val_loss: 0.0058\n",
      "Epoch 7/100\n",
      "66/66 [==============================] - 0s 1ms/step - loss: 0.0073 - val_loss: 0.0052\n",
      "Epoch 8/100\n",
      "66/66 [==============================] - 0s 1ms/step - loss: 0.0062 - val_loss: 0.0044\n",
      "Epoch 9/100\n",
      "66/66 [==============================] - 0s 1ms/step - loss: 0.0052 - val_loss: 0.0036\n",
      "Epoch 10/100\n",
      "66/66 [==============================] - 0s 1ms/step - loss: 0.0044 - val_loss: 0.0032\n",
      "Epoch 11/100\n",
      "66/66 [==============================] - 0s 1ms/step - loss: 0.0037 - val_loss: 0.0027\n",
      "Epoch 12/100\n",
      "66/66 [==============================] - 0s 1ms/step - loss: 0.0031 - val_loss: 0.0024\n",
      "Epoch 13/100\n",
      "66/66 [==============================] - 0s 1ms/step - loss: 0.0027 - val_loss: 0.0021\n",
      "Epoch 14/100\n",
      "66/66 [==============================] - 0s 1ms/step - loss: 0.0023 - val_loss: 0.0019\n",
      "Epoch 15/100\n",
      "66/66 [==============================] - 0s 1ms/step - loss: 0.0019 - val_loss: 0.0016\n",
      "Epoch 16/100\n",
      "66/66 [==============================] - 0s 1ms/step - loss: 0.0017 - val_loss: 0.0014\n",
      "Epoch 17/100\n",
      "66/66 [==============================] - 0s 1ms/step - loss: 0.0014 - val_loss: 0.0012\n",
      "Epoch 18/100\n",
      "66/66 [==============================] - 0s 1ms/step - loss: 0.0012 - val_loss: 0.0010\n",
      "Epoch 19/100\n",
      "66/66 [==============================] - 0s 1ms/step - loss: 0.0011 - val_loss: 8.8438e-04\n",
      "Epoch 20/100\n",
      "66/66 [==============================] - 0s 1ms/step - loss: 9.5751e-04 - val_loss: 7.8386e-04\n",
      "Epoch 21/100\n",
      "66/66 [==============================] - 0s 1ms/step - loss: 8.5841e-04 - val_loss: 6.9201e-04\n",
      "Epoch 22/100\n",
      "66/66 [==============================] - 0s 1ms/step - loss: 7.8842e-04 - val_loss: 6.3132e-04\n",
      "Epoch 23/100\n",
      "66/66 [==============================] - 0s 1ms/step - loss: 7.2994e-04 - val_loss: 5.8391e-04\n",
      "Epoch 24/100\n",
      "66/66 [==============================] - 0s 1ms/step - loss: 6.8079e-04 - val_loss: 5.4003e-04\n",
      "Epoch 25/100\n",
      "66/66 [==============================] - 0s 2ms/step - loss: 6.5042e-04 - val_loss: 5.1917e-04\n",
      "Epoch 26/100\n",
      "66/66 [==============================] - 0s 2ms/step - loss: 6.1293e-04 - val_loss: 4.8487e-04\n",
      "Epoch 27/100\n",
      "66/66 [==============================] - 0s 2ms/step - loss: 5.8422e-04 - val_loss: 4.9738e-04\n",
      "Epoch 28/100\n",
      "66/66 [==============================] - 0s 2ms/step - loss: 5.6018e-04 - val_loss: 4.3759e-04\n",
      "Epoch 29/100\n",
      "66/66 [==============================] - 0s 2ms/step - loss: 5.2978e-04 - val_loss: 4.1784e-04\n",
      "Epoch 30/100\n",
      "66/66 [==============================] - 0s 2ms/step - loss: 5.0742e-04 - val_loss: 4.1324e-04\n",
      "Epoch 31/100\n",
      "66/66 [==============================] - 0s 1ms/step - loss: 4.8210e-04 - val_loss: 3.7850e-04\n",
      "Epoch 32/100\n",
      "66/66 [==============================] - 0s 1ms/step - loss: 4.6164e-04 - val_loss: 3.6126e-04\n",
      "Epoch 33/100\n",
      "66/66 [==============================] - 0s 2ms/step - loss: 4.3729e-04 - val_loss: 3.4694e-04\n",
      "Epoch 34/100\n",
      "66/66 [==============================] - 0s 1ms/step - loss: 4.1923e-04 - val_loss: 3.3992e-04\n",
      "Epoch 35/100\n",
      "66/66 [==============================] - 0s 2ms/step - loss: 3.9944e-04 - val_loss: 3.1568e-04\n",
      "Epoch 36/100\n",
      "66/66 [==============================] - 0s 1ms/step - loss: 3.8335e-04 - val_loss: 3.0123e-04\n",
      "Epoch 37/100\n",
      "66/66 [==============================] - 0s 1ms/step - loss: 3.6526e-04 - val_loss: 2.8691e-04\n",
      "Epoch 38/100\n",
      "66/66 [==============================] - 0s 1ms/step - loss: 3.4774e-04 - val_loss: 2.7890e-04\n",
      "Epoch 39/100\n",
      "66/66 [==============================] - 0s 1ms/step - loss: 3.3358e-04 - val_loss: 2.6578e-04\n",
      "Epoch 40/100\n",
      "66/66 [==============================] - 0s 1ms/step - loss: 3.1601e-04 - val_loss: 2.5848e-04\n",
      "Epoch 41/100\n",
      "66/66 [==============================] - 0s 1ms/step - loss: 3.0366e-04 - val_loss: 2.4401e-04\n",
      "Epoch 42/100\n",
      "66/66 [==============================] - 0s 1ms/step - loss: 2.8998e-04 - val_loss: 2.3147e-04\n",
      "Epoch 43/100\n",
      "66/66 [==============================] - 0s 1ms/step - loss: 2.7836e-04 - val_loss: 2.2220e-04\n",
      "Epoch 44/100\n",
      "66/66 [==============================] - 0s 1ms/step - loss: 2.6865e-04 - val_loss: 2.1636e-04\n",
      "Epoch 45/100\n",
      "66/66 [==============================] - 0s 1ms/step - loss: 2.5792e-04 - val_loss: 2.0531e-04\n",
      "Epoch 46/100\n",
      "66/66 [==============================] - 0s 1ms/step - loss: 2.4725e-04 - val_loss: 1.9923e-04\n",
      "Epoch 47/100\n",
      "66/66 [==============================] - 0s 1ms/step - loss: 2.4018e-04 - val_loss: 1.9107e-04\n",
      "Epoch 48/100\n",
      "66/66 [==============================] - 0s 1ms/step - loss: 2.3059e-04 - val_loss: 1.8996e-04\n",
      "Epoch 49/100\n",
      "66/66 [==============================] - 0s 2ms/step - loss: 2.2326e-04 - val_loss: 1.7775e-04\n",
      "Epoch 50/100\n",
      "66/66 [==============================] - 0s 2ms/step - loss: 2.1439e-04 - val_loss: 1.7093e-04\n",
      "Epoch 51/100\n",
      "66/66 [==============================] - 0s 1ms/step - loss: 2.0667e-04 - val_loss: 1.6792e-04\n",
      "Epoch 52/100\n",
      "66/66 [==============================] - 0s 1ms/step - loss: 2.0050e-04 - val_loss: 1.6992e-04\n",
      "Epoch 53/100\n",
      "66/66 [==============================] - 0s 1ms/step - loss: 1.9482e-04 - val_loss: 1.6777e-04\n",
      "Epoch 54/100\n",
      "66/66 [==============================] - 0s 1ms/step - loss: 1.9173e-04 - val_loss: 1.5508e-04\n",
      "Epoch 55/100\n",
      "66/66 [==============================] - 0s 1ms/step - loss: 1.8199e-04 - val_loss: 1.6358e-04\n",
      "Epoch 56/100\n",
      "66/66 [==============================] - 0s 1ms/step - loss: 1.8060e-04 - val_loss: 1.4387e-04\n",
      "Epoch 57/100\n",
      "66/66 [==============================] - 0s 1ms/step - loss: 1.7362e-04 - val_loss: 1.3609e-04\n",
      "Epoch 58/100\n",
      "66/66 [==============================] - 0s 1ms/step - loss: 1.6975e-04 - val_loss: 1.3895e-04\n",
      "Epoch 59/100\n",
      "66/66 [==============================] - 0s 1ms/step - loss: 1.6386e-04 - val_loss: 1.2851e-04\n",
      "Epoch 60/100\n",
      "66/66 [==============================] - 0s 1ms/step - loss: 1.6045e-04 - val_loss: 1.3335e-04\n",
      "Epoch 61/100\n",
      "66/66 [==============================] - 0s 1ms/step - loss: 1.5662e-04 - val_loss: 1.2065e-04\n",
      "Epoch 62/100\n",
      "66/66 [==============================] - 0s 2ms/step - loss: 1.5053e-04 - val_loss: 1.2233e-04\n",
      "Epoch 63/100\n",
      "66/66 [==============================] - 0s 1ms/step - loss: 1.4679e-04 - val_loss: 1.1297e-04\n",
      "Epoch 64/100\n",
      "66/66 [==============================] - 0s 1ms/step - loss: 1.4306e-04 - val_loss: 1.1100e-04\n",
      "Epoch 65/100\n",
      "66/66 [==============================] - 0s 1ms/step - loss: 1.3853e-04 - val_loss: 1.1180e-04\n",
      "Epoch 66/100\n",
      "66/66 [==============================] - 0s 1ms/step - loss: 1.3465e-04 - val_loss: 1.1281e-04\n",
      "Epoch 67/100\n",
      "66/66 [==============================] - 0s 1ms/step - loss: 1.3106e-04 - val_loss: 9.9881e-05\n",
      "Epoch 68/100\n",
      "66/66 [==============================] - 0s 1ms/step - loss: 1.2811e-04 - val_loss: 1.1404e-04\n",
      "Epoch 69/100\n",
      "66/66 [==============================] - 0s 1ms/step - loss: 1.2550e-04 - val_loss: 9.9021e-05\n",
      "Epoch 70/100\n",
      "66/66 [==============================] - 0s 1ms/step - loss: 1.2201e-04 - val_loss: 1.0868e-04\n",
      "Epoch 71/100\n",
      "66/66 [==============================] - 0s 1ms/step - loss: 1.2089e-04 - val_loss: 1.0271e-04\n",
      "Epoch 72/100\n",
      "66/66 [==============================] - 0s 1ms/step - loss: 1.1640e-04 - val_loss: 1.0309e-04\n",
      "Epoch 73/100\n",
      "66/66 [==============================] - 0s 1ms/step - loss: 1.1486e-04 - val_loss: 1.3341e-04\n",
      "Epoch 74/100\n",
      "66/66 [==============================] - 0s 1ms/step - loss: 1.1116e-04 - val_loss: 9.1165e-05\n",
      "Epoch 75/100\n",
      "66/66 [==============================] - 0s 2ms/step - loss: 1.0829e-04 - val_loss: 8.9113e-05\n",
      "Epoch 76/100\n",
      "66/66 [==============================] - 0s 1ms/step - loss: 1.0681e-04 - val_loss: 8.2578e-05\n",
      "Epoch 77/100\n",
      "66/66 [==============================] - 0s 2ms/step - loss: 1.0249e-04 - val_loss: 7.4464e-05\n",
      "Epoch 78/100\n",
      "66/66 [==============================] - 0s 2ms/step - loss: 1.0037e-04 - val_loss: 9.4259e-05\n",
      "Epoch 79/100\n",
      "66/66 [==============================] - 0s 1ms/step - loss: 1.0208e-04 - val_loss: 8.6188e-05\n",
      "Epoch 80/100\n",
      "66/66 [==============================] - 0s 1ms/step - loss: 9.8324e-05 - val_loss: 7.0243e-05\n",
      "Epoch 81/100\n",
      "66/66 [==============================] - 0s 1ms/step - loss: 9.4603e-05 - val_loss: 7.3245e-05\n",
      "Epoch 82/100\n",
      "66/66 [==============================] - 0s 1ms/step - loss: 9.3587e-05 - val_loss: 7.8501e-05\n",
      "Epoch 83/100\n",
      "66/66 [==============================] - 0s 1ms/step - loss: 9.5222e-05 - val_loss: 6.9622e-05\n",
      "Epoch 84/100\n",
      "66/66 [==============================] - 0s 1ms/step - loss: 8.9920e-05 - val_loss: 9.1140e-05\n",
      "Epoch 85/100\n",
      "66/66 [==============================] - 0s 1ms/step - loss: 8.8404e-05 - val_loss: 7.1333e-05\n",
      "Epoch 86/100\n",
      "66/66 [==============================] - 0s 1ms/step - loss: 8.6131e-05 - val_loss: 6.3081e-05\n",
      "Epoch 87/100\n",
      "66/66 [==============================] - 0s 1ms/step - loss: 8.9647e-05 - val_loss: 5.9283e-05\n",
      "Epoch 88/100\n",
      "66/66 [==============================] - 0s 1ms/step - loss: 8.2790e-05 - val_loss: 5.9828e-05\n",
      "Epoch 89/100\n",
      "66/66 [==============================] - 0s 1ms/step - loss: 8.2243e-05 - val_loss: 8.3753e-05\n",
      "Epoch 90/100\n",
      "66/66 [==============================] - 0s 1ms/step - loss: 8.3458e-05 - val_loss: 6.0823e-05\n",
      "Epoch 91/100\n",
      "66/66 [==============================] - 0s 1ms/step - loss: 8.0808e-05 - val_loss: 5.8336e-05\n",
      "Epoch 92/100\n",
      "66/66 [==============================] - 0s 1ms/step - loss: 7.9353e-05 - val_loss: 7.3458e-05\n",
      "Epoch 93/100\n",
      "66/66 [==============================] - 0s 1ms/step - loss: 7.6590e-05 - val_loss: 5.9153e-05\n",
      "Epoch 94/100\n",
      "66/66 [==============================] - 0s 1ms/step - loss: 7.7291e-05 - val_loss: 7.7705e-05\n",
      "Epoch 95/100\n",
      "66/66 [==============================] - 0s 1ms/step - loss: 7.4996e-05 - val_loss: 5.9277e-05\n",
      "Epoch 96/100\n",
      "66/66 [==============================] - 0s 1ms/step - loss: 7.3270e-05 - val_loss: 6.5210e-05\n",
      "Epoch 97/100\n",
      "66/66 [==============================] - 0s 1ms/step - loss: 7.1900e-05 - val_loss: 5.2102e-05\n",
      "Epoch 98/100\n",
      "66/66 [==============================] - 0s 1ms/step - loss: 7.2713e-05 - val_loss: 5.2971e-05\n",
      "Epoch 99/100\n",
      "66/66 [==============================] - 0s 1ms/step - loss: 7.1921e-05 - val_loss: 5.8910e-05\n",
      "Epoch 100/100\n",
      "66/66 [==============================] - 0s 1ms/step - loss: 6.9117e-05 - val_loss: 5.6178e-05\n"
     ]
    }
   ],
   "source": [
    "\n",
    "# normalize the dataset\n",
    "scaler = MinMaxScaler(feature_range=(0, 1))\n",
    "dataset = scaler.fit_transform(dataset)\n",
    "\n",
    "# split into train and test sets\n",
    "train_size = int(len(dataset) * 0.67) \n",
    "test_size = len(dataset) - train_size\n",
    "train, test = dataset[0:train_size, :], dataset[train_size:len(dataset), :]\n",
    "\n",
    "# reshape into X=t and Y=t+1\n",
    "look_back = 3\n",
    "trainX, trainY = create_dataset(train, look_back)  \n",
    "testX, testY = create_dataset(test, look_back)\n",
    "\n",
    "# reshape input to be  [samples, time steps, features]\n",
    "trainX = np.reshape(trainX, (trainX.shape[0], look_back, n_cols))\n",
    "testX = np.reshape(testX, (testX.shape[0],look_back, n_cols))\n",
    "\n",
    "# create and fit the LSTM network\n",
    "\n",
    "model = Sequential()\n",
    "model.add(LSTM(4))#, input_dim=(look_back,n_cols)))\n",
    "model.add(Dense(1))\n",
    "model.compile(loss='mean_squared_error', optimizer='adam')\n",
    "history= model.fit(trainX, trainY,validation_split=0.33, epochs=30, batch_size=32)\n"
   ]
  },
  {
   "cell_type": "code",
   "execution_count": 33,
   "metadata": {},
   "outputs": [
    {
     "data": {
      "image/png": "[encoded data removed]",
      "text/plain": [
       "<Figure size 432x288 with 1 Axes>"
      ]
     },
     "metadata": {
      "needs_background": "light"
     },
     "output_type": "display_data"
    }
   ],
   "source": [
    "plt.plot(history.history['loss'])\n",
    "plt.plot(history.history['val_loss'])\n",
    "plt.title('model loss')\n",
    "plt.show()"
   ]
  },
  {
   "cell_type": "code",
   "execution_count": 47,
   "metadata": {},
   "outputs": [
    {
     "name": "stdout",
     "output_type": "stream",
     "text": [
      "[[0.41710094]\n",
      " [0.41952413]\n",
      " [0.4095145 ]\n",
      " ...\n",
      " [0.27828526]\n",
      " [0.28350148]\n",
      " [0.27851436]]\n",
      "[[0.2717319 ]\n",
      " [0.25815344]\n",
      " [0.2616048 ]\n",
      " ...\n",
      " [0.21603546]\n",
      " [0.2080546 ]\n",
      " [0.19415978]]\n",
      "[0.41710094 0.41952413 0.40951449 ... 0.27828526 0.28350148 0.27851436]\n"
     ]
    }
   ],
   "source": [
    "# make predictions\n",
    "trainPredict = model.predict(trainX)\n",
    "testPredict = model.predict(testX)\n",
    "print(trainPredict); print(testPredict)\n",
    "\n",
    "# Get something which has as many features as dataset\n",
    "trainPredict_extended = np.zeros((len(trainPredict),n_cols))\n",
    "# Put the predictions there\n",
    "trainPredict_extended[:,(n_cols-1)] = trainPredict[:,0]\n",
    "# Inverse transform it and select the 3rd column.\n",
    "trainPredict = scaler.inverse_transform(trainPredict_extended)[:,(n_cols-1)]  \n",
    "print(trainPredict)\n",
    "# Get something which has as many features as dataset\n",
    "testPredict_extended = np.zeros((len(testPredict),n_cols))\n",
    "# Put the predictions there\n",
    "testPredict_extended[:,(n_cols-1)] = testPredict[:,0]\n",
    "# Inverse transform it and select the 3rd column.\n",
    "testPredict = scaler.inverse_transform(testPredict_extended)[:,(n_cols-1)]   "
   ]
  },
  {
   "cell_type": "code",
   "execution_count": 48,
   "metadata": {},
   "outputs": [
    {
     "name": "stdout",
     "output_type": "stream",
     "text": [
      "corr: 1.0\n"
     ]
    },
    {
     "data": {
      "image/png": "[encoded data removed]",
      "text/plain": [
       "<Figure size 720x720 with 1 Axes>"
      ]
     },
     "metadata": {
      "needs_background": "light"
     },
     "output_type": "display_data"
    }
   ],
   "source": [
    "from scipy.stats import pearsonr\n",
    "\n",
    "plt.figure(figsize=[10,10])\n",
    "x = np.array(testPredict)\n",
    "y = testY\n",
    "plt.scatter(x,y)\n",
    "plt.xlabel('prediction')\n",
    "plt.ylabel('true')\n",
    "corr = pearsonr(x,y)[0]\n",
    "print('corr: ' + str(round(corr,2)))\n",
    "plt.show()"
   ]
  },
  {
   "cell_type": "code",
   "execution_count": null,
   "metadata": {},
   "outputs": [],
   "source": []
  }
 ],
 "metadata": {
  "kernelspec": {
   "display_name": "Python 3",
   "language": "python",
   "name": "python3"
  },
  "language_info": {
   "codemirror_mode": {
    "name": "ipython",
    "version": 3
   },
   "file_extension": ".py",
   "mimetype": "text/x-python",
   "name": "python",
   "nbconvert_exporter": "python",
   "pygments_lexer": "ipython3",
   "version": "3.8.5"
  }
 },
 "nbformat": 4,
 "nbformat_minor": 2
}
